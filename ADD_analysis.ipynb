{
 "cells": [
  {
   "cell_type": "markdown",
   "metadata": {},
   "source": [
    "## <font color='Black'>-></font> Are all races equally cited according to local demographics?"
   ]
  },
  {
   "cell_type": "markdown",
   "metadata": {},
   "source": [
    "First, we need to get the appropriate data and create some common data structures to store the data."
   ]
  },
  {
   "cell_type": "code",
   "execution_count": 36,
   "metadata": {
    "collapsed": true
   },
   "outputs": [],
   "source": [
    "#List of races as listed in the population data set\n",
    "races_full = ['White','Hispanic','Asian','Black','Other']\n",
    "\n",
    "#Two dataframes to be used to store the population percentages and citation counts of all areas\n",
    "citations = pd.DataFrame(0.0, index= ['White','Hispanic','Asian','Black','Other'],columns={})\n",
    "populations = pd.DataFrame(0.0, index= ['White','Hispanic','Asian','Black','Other'], columns={})"
   ]
  },
  {
   "cell_type": "markdown",
   "metadata": {},
   "source": [
    "This function extracts the population demographics and citation information and merges it into a common\n",
    "dataframe for a year and police district code."
   ]
  },
  {
   "cell_type": "code",
   "execution_count": 37,
   "metadata": {
    "collapsed": true
   },
   "outputs": [],
   "source": [
    "#Function: get the percentage of each race being cited and population demographics for that area\n",
    "#Params: the year and area to get the citation percentages from\n",
    "def get_citation_percent_v_population(year, area):\n",
    "    \n",
    "    #Getting the appropriate data\n",
    "    df_temp = df_years[year][area][0]\n",
    "    df_temp = df_temp[['W','H','A','B','O']].loc[df_temp.index == 'citation']\n",
    "    df_new = pd.DataFrame(df_years[year][area][1]['Percent'])\n",
    "    \n",
    "    #Adding the citation data to the population percent dataframe\n",
    "    for i in range(0,5):\n",
    "        df_new.set_value(races_full[i],'Citation',df_temp.iat[0,i])\n",
    "    \n",
    "    #Merging smaller racial groups with little data to Other\n",
    "    df_new.set_value('Other','Percent',df_new.iat[5,0] + df_new.iat[6,0] + df_new.iat[7,0] + df_new.iat[8,0])\n",
    "    df_new = df_new.drop(['Two or More','American Indian','Pacific Islander','Total Population'])\n",
    "    \n",
    "    #Finding the total citation count and converting citation values into percentages\n",
    "    total_val = df_new.iat[4,1] + df_new.iat[3,1] + df_new.iat[2,1] + df_new.iat[1,1] + df_new.iat[0,1]\n",
    "    for i in range(0,5):\n",
    "        df_new.set_value(races_full[i],'Citation', df_new.iat[i,1]/total_val * 100)\n",
    "        \n",
    "    return df_new"
   ]
  },
  {
   "cell_type": "markdown",
   "metadata": {},
   "source": [
    "This next function will allow us to sum the citation percentages and population percentages for all of\n",
    "San Diego county for all years we have data from. This function also allows for us to compute average population demographics and citation rates across all of San Diego. We will then be able to do a chi-squared test to test how related the population demographics are to citation percentages. "
   ]
  },
  {
   "cell_type": "code",
   "execution_count": 38,
   "metadata": {
    "collapsed": true
   },
   "outputs": [],
   "source": [
    "#Function: get citation counts and population percentages from all years and areas and sum their counts in a dataframe\n",
    "def citation_for_all():\n",
    "    \n",
    "    #Create a new empty dataframe to store our general info\n",
    "    df_total = pd.DataFrame(0.0, index= ['White','Hispanic','Asian','Black','Other'], columns={'Citation','Population'})\n",
    "    \n",
    "    #Loop through all the police areas, years, and races; get their citation percentages and population percentages\n",
    "    for area in areas_with_data:\n",
    "        for year in years_list:\n",
    "            df_citate = get_citation_percent_v_population(year,area)\n",
    "            \n",
    "            #Sum the percentages in the total dataframe, add the separate values to the citation and population dataframes\n",
    "            for i in range (0,5):\n",
    "                df_total.set_value(df_total.index[i],'Citation', df_citate.iat[i,1] + df_total.iat[i,1])\n",
    "                citations.set_value(citations.index[i],area, df_citate.iat[i,1])\n",
    "                df_total.set_value(df_total.index[i],'Population', df_citate.iat[i,0] + df_total.iat[i,0])\n",
    "                populations.set_value(populations.index[i],area,df_citate.iat[i,0])\n",
    "                \n",
    "    #Get the total percentage numbers\n",
    "    total_val1 = df_total.iat[4,1] + df_total.iat[3,1] + df_total.iat[2,1] + df_total.iat[1,1] + df_total.iat[0,1]\n",
    "    total_val2 = df_total.iat[4,0] + df_total.iat[3,0] + df_total.iat[2,0] + df_total.iat[1,0] + df_total.iat[0,0] \n",
    "    \n",
    "    #Get the overall population and citation percentage of each race in San Diego\n",
    "    for i in range(0,5):\n",
    "        df_total.set_value(races_full[i],'Citation', df_total.iat[i,1]/total_val1 * 100)\n",
    "        df_total.set_value(races_full[i],'Population', df_total.iat[i,0]/total_val2 * 100)\n",
    "    \n",
    "    #Create a column of % difference values between the overall citation and population percentages\n",
    "    for i in range(0,5):\n",
    "        df_total.set_value(races_full[i],'Differences', ((df_total.iat[i,1] - df_total.iat[i,0])))\n",
    "    \n",
    "    #Do a chi-squared test to see how population and citation compare\n",
    "    q_val, p_val = stats.chisquare(df_total['Population'],df_total['Citation'], axis=None)\n",
    "    \n",
    "    #Print the result of the chi-squared test\n",
    "    if p_val < 0.01:\n",
    "        print('There is a significant difference in percentages!')\n",
    "    else:\n",
    "        print('No significant difference in percentages overall.')\n",
    "    \n",
    "    return df_total"
   ]
  },
  {
   "cell_type": "markdown",
   "metadata": {},
   "source": [
    "Having dealt with all the data as a whole, we now want to make comparisons between each race specifically. With\n",
    "differences between each population and citation pair of data for each race in each police district. The\n",
    "between_races function will create a dataframe of the citation-population differences for all races and areas."
   ]
  },
  {
   "cell_type": "code",
   "execution_count": 39,
   "metadata": {
    "collapsed": true
   },
   "outputs": [],
   "source": [
    "#Function: creates a dataframe of the differences between citation and population percentages for all areas\n",
    "#Params: dataframe of citation percentages, dataframe of population percentages\n",
    "def between_races(df_citations,df_populations):\n",
    "    \n",
    "    #Create a empty dataframe to store our difference values\n",
    "    df_differences = pd.DataFrame(0.0, index= ['White','Hispanic','Asian','Black','Other'],columns={})\n",
    "    \n",
    "    #Loop through the citations and populations dataframes and set the difference's values\n",
    "    for indexO in range(0, len(areas_with_data)):\n",
    "        for indexI in range(0, len(df_differences.index)):\n",
    "            df_differences.set_value(races_full[indexI],areas_with_data[indexO], \n",
    "                                     df_citations.iat[indexI,indexO] - df_populations.iat[indexI,indexO])\n",
    "    \n",
    "    return df_differences"
   ]
  },
  {
   "cell_type": "markdown",
   "metadata": {},
   "source": [
    "The next two functions allow for us to compare the difference scores between races across all races, and \n",
    "determine whether they are significant using chi-squared tests."
   ]
  },
  {
   "cell_type": "code",
   "execution_count": 40,
   "metadata": {
    "collapsed": true
   },
   "outputs": [],
   "source": [
    "#Function: prints out the result of a chi-squared test between two race citation-population differences\n",
    "#Params: the dataframe of differences, and names of two races of interest\n",
    "def chi_results(df_differences, race1, race2):\n",
    "    \n",
    "    #Get the information for each race\n",
    "    df_1 = df_differences.loc[df_differences.index == race1]\n",
    "    df_2 = df_differences.loc[df_differences.index == race2]\n",
    "    \n",
    "    #Compute the chi-squared value for the dataframes values\n",
    "    q, p_val = stats.chisquare(df_1,df_2, axis=None)\n",
    "    \n",
    "    #Print out the names of the races if their correlation is significant\n",
    "    if p_val < 0.01:\n",
    "        print(str(race1) + ' & ' + str(race2))"
   ]
  },
  {
   "cell_type": "code",
   "execution_count": 41,
   "metadata": {
    "collapsed": true
   },
   "outputs": [],
   "source": [
    "#Function: calls the chi_results method for all race-race comparisons\n",
    "def chi_squared_comparisons():\n",
    "    # Some print statements which will look nice\n",
    "    print()\n",
    "    print(\"But do there exist differences between individual races?\")\n",
    "    print(\"* These comparisons are made with matrices of difference scores from each district\")\n",
    "    print()\n",
    "    #Compute chi-squared values for each of the following race pairs\n",
    "    chi_results(differences,'Asian','Black')\n",
    "    chi_results(differences,'Asian','Hispanic')\n",
    "    chi_results(differences,'Asian','Other')\n",
    "    chi_results(differences,'Asian','White')\n",
    "    chi_results(differences,'Black','Hispanic')\n",
    "    chi_results(differences,'Black','Other')\n",
    "    chi_results(differences,'Black','White')\n",
    "    chi_results(differences,'Hispanic','Other')\n",
    "    chi_results(differences,'Hispanic','White')\n",
    "    chi_results(differences,'White','Other')"
   ]
  },
  {
   "cell_type": "markdown",
   "metadata": {},
   "source": [
    "Finally, we can make the calculations, and see the results of the analyses."
   ]
  },
  {
   "cell_type": "code",
   "execution_count": 42,
   "metadata": {},
   "outputs": [
    {
     "ename": "NameError",
     "evalue": "name 'df_years' is not defined",
     "output_type": "error",
     "traceback": [
      "\u001b[0;31m---------------------------------------------------------------------------\u001b[0m",
      "\u001b[0;31mNameError\u001b[0m                                 Traceback (most recent call last)",
      "\u001b[0;32m<ipython-input-42-f57b52832698>\u001b[0m in \u001b[0;36m<module>\u001b[0;34m()\u001b[0m\n\u001b[1;32m      1\u001b[0m \u001b[0;31m#Get the general data\u001b[0m\u001b[0;34m\u001b[0m\u001b[0;34m\u001b[0m\u001b[0m\n\u001b[0;32m----> 2\u001b[0;31m \u001b[0mdf_show\u001b[0m \u001b[0;34m=\u001b[0m \u001b[0mcitation_for_all\u001b[0m\u001b[0;34m(\u001b[0m\u001b[0;34m)\u001b[0m\u001b[0;34m\u001b[0m\u001b[0m\n\u001b[0m\u001b[1;32m      3\u001b[0m \u001b[0;34m\u001b[0m\u001b[0m\n\u001b[1;32m      4\u001b[0m \u001b[0;31m#Plot the general differences between citation percentages and population percentages\u001b[0m\u001b[0;34m\u001b[0m\u001b[0;34m\u001b[0m\u001b[0m\n\u001b[1;32m      5\u001b[0m \u001b[0mplt\u001b[0m\u001b[0;34m.\u001b[0m\u001b[0mbar\u001b[0m\u001b[0;34m(\u001b[0m\u001b[0mdf_show\u001b[0m\u001b[0;34m.\u001b[0m\u001b[0mindex\u001b[0m\u001b[0;34m,\u001b[0m\u001b[0mdf_show\u001b[0m\u001b[0;34m[\u001b[0m\u001b[0;34m'Differences'\u001b[0m\u001b[0;34m]\u001b[0m\u001b[0;34m)\u001b[0m\u001b[0;34m\u001b[0m\u001b[0m\n",
      "\u001b[0;32m<ipython-input-38-d070854f9efa>\u001b[0m in \u001b[0;36mcitation_for_all\u001b[0;34m()\u001b[0m\n\u001b[1;32m      8\u001b[0m     \u001b[0;32mfor\u001b[0m \u001b[0marea\u001b[0m \u001b[0;32min\u001b[0m \u001b[0mareas_with_data\u001b[0m\u001b[0;34m:\u001b[0m\u001b[0;34m\u001b[0m\u001b[0m\n\u001b[1;32m      9\u001b[0m         \u001b[0;32mfor\u001b[0m \u001b[0myear\u001b[0m \u001b[0;32min\u001b[0m \u001b[0myears_list\u001b[0m\u001b[0;34m:\u001b[0m\u001b[0;34m\u001b[0m\u001b[0m\n\u001b[0;32m---> 10\u001b[0;31m             \u001b[0mdf_citate\u001b[0m \u001b[0;34m=\u001b[0m \u001b[0mget_citation_percent_v_population\u001b[0m\u001b[0;34m(\u001b[0m\u001b[0myear\u001b[0m\u001b[0;34m,\u001b[0m\u001b[0marea\u001b[0m\u001b[0;34m)\u001b[0m\u001b[0;34m\u001b[0m\u001b[0m\n\u001b[0m\u001b[1;32m     11\u001b[0m \u001b[0;34m\u001b[0m\u001b[0m\n\u001b[1;32m     12\u001b[0m             \u001b[0;31m#Sum the percentages in the total dataframe, add the separate values to the citation and population dataframes\u001b[0m\u001b[0;34m\u001b[0m\u001b[0;34m\u001b[0m\u001b[0m\n",
      "\u001b[0;32m<ipython-input-37-f4104bccb425>\u001b[0m in \u001b[0;36mget_citation_percent_v_population\u001b[0;34m(year, area)\u001b[0m\n\u001b[1;32m      4\u001b[0m \u001b[0;34m\u001b[0m\u001b[0m\n\u001b[1;32m      5\u001b[0m     \u001b[0;31m#Getting the appropriate data\u001b[0m\u001b[0;34m\u001b[0m\u001b[0;34m\u001b[0m\u001b[0m\n\u001b[0;32m----> 6\u001b[0;31m     \u001b[0mdf_temp\u001b[0m \u001b[0;34m=\u001b[0m \u001b[0mdf_years\u001b[0m\u001b[0;34m[\u001b[0m\u001b[0myear\u001b[0m\u001b[0;34m]\u001b[0m\u001b[0;34m[\u001b[0m\u001b[0marea\u001b[0m\u001b[0;34m]\u001b[0m\u001b[0;34m[\u001b[0m\u001b[0;36m0\u001b[0m\u001b[0;34m]\u001b[0m\u001b[0;34m\u001b[0m\u001b[0m\n\u001b[0m\u001b[1;32m      7\u001b[0m     \u001b[0mdf_temp\u001b[0m \u001b[0;34m=\u001b[0m \u001b[0mdf_temp\u001b[0m\u001b[0;34m[\u001b[0m\u001b[0;34m[\u001b[0m\u001b[0;34m'W'\u001b[0m\u001b[0;34m,\u001b[0m\u001b[0;34m'H'\u001b[0m\u001b[0;34m,\u001b[0m\u001b[0;34m'A'\u001b[0m\u001b[0;34m,\u001b[0m\u001b[0;34m'B'\u001b[0m\u001b[0;34m,\u001b[0m\u001b[0;34m'O'\u001b[0m\u001b[0;34m]\u001b[0m\u001b[0;34m]\u001b[0m\u001b[0;34m.\u001b[0m\u001b[0mloc\u001b[0m\u001b[0;34m[\u001b[0m\u001b[0mdf_temp\u001b[0m\u001b[0;34m.\u001b[0m\u001b[0mindex\u001b[0m \u001b[0;34m==\u001b[0m \u001b[0;34m'citation'\u001b[0m\u001b[0;34m]\u001b[0m\u001b[0;34m\u001b[0m\u001b[0m\n\u001b[1;32m      8\u001b[0m     \u001b[0mdf_new\u001b[0m \u001b[0;34m=\u001b[0m \u001b[0mpd\u001b[0m\u001b[0;34m.\u001b[0m\u001b[0mDataFrame\u001b[0m\u001b[0;34m(\u001b[0m\u001b[0mdf_years\u001b[0m\u001b[0;34m[\u001b[0m\u001b[0myear\u001b[0m\u001b[0;34m]\u001b[0m\u001b[0;34m[\u001b[0m\u001b[0marea\u001b[0m\u001b[0;34m]\u001b[0m\u001b[0;34m[\u001b[0m\u001b[0;36m1\u001b[0m\u001b[0;34m]\u001b[0m\u001b[0;34m[\u001b[0m\u001b[0;34m'Percent'\u001b[0m\u001b[0;34m]\u001b[0m\u001b[0;34m)\u001b[0m\u001b[0;34m\u001b[0m\u001b[0m\n",
      "\u001b[0;31mNameError\u001b[0m: name 'df_years' is not defined"
     ]
    }
   ],
   "source": [
    "#Get the general data\n",
    "df_show = citation_for_all()\n",
    "\n",
    "#Plot the general differences between citation percentages and population percentages\n",
    "plt.bar(df_show.index,df_show['Differences'])\n",
    "plt.title('% Differences between population and citation across Race')\n",
    "plt.ylabel('% of total citations - total population %')\n",
    "\n",
    "#Compute chi-squared tests on differences between races\n",
    "chi_squared_comparisons()"
   ]
  },
  {
   "cell_type": "markdown",
   "metadata": {},
   "source": [
    "According to this analysis, there are no significant differences between the general population averages and citation\n",
    "averages, which is suggestive of an overall lack of bias in citation practices across all races which can be seen\n",
    "visually averaging the bars between the races and getting near zero differences between population and citations. However, when each race is taken separately, a couple significant differences are found between races (some of which are also consistent with the general data). Here you can see that asians and blacks have a near 10% differential in citation rate in the general graph, similar to asians & others,and whites & others; while other effects are found by the specific area by area difference calculation, they do hold generally across the San Diego population as a whole. This could be suggestive of local effects. On the flipside, some data appears to be significantly different visually on the general graph but fails to hold at an individual basis, suggesting that the general statistic may be skewed to some extent as well. It is worth considering the part of these citation biases may be related to the role of San Diego as a \n",
    "sanctuary city for refugees and a starting place for many immigrants in the U.S.A., where certain districts may have a\n",
    "larger police presence due to new populations who are adjusting to our laws and language, one such area is City Heights\n",
    "which is a community made up of mostly immigrants, refugees, asylees, etc. and having been to that neighbourhood, it is very easy to notice a heightened police presence. So the effects we may see may not be indicative of some racial bias in policing but of other situations going on, where in the case of such communities, the police serve as an educational institution for newcomers to learn the law of the land who may not know English or understand how to live in a different culture. Which brings us to privacy and ethics."
   ]
  }
 ],
 "metadata": {
  "anaconda-cloud": {},
  "kernelspec": {
   "display_name": "Python 3",
   "language": "python",
   "name": "python3"
  },
  "language_info": {
   "codemirror_mode": {
    "name": "ipython",
    "version": 3
   },
   "file_extension": ".py",
   "mimetype": "text/x-python",
   "name": "python",
   "nbconvert_exporter": "python",
   "pygments_lexer": "ipython3",
   "version": "3.6.3"
  }
 },
 "nbformat": 4,
 "nbformat_minor": 2
}
