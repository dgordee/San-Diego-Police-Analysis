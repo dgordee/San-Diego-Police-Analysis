{
 "cells": [
  {
   "cell_type": "markdown",
   "metadata": {},
   "source": [
    "# COGS 108 - Project Proposal"
   ]
  },
  {
   "cell_type": "markdown",
   "metadata": {},
   "source": [
    "## Important\n",
    "\n",
    "- Make sure all group members (3-5 people) are listed in the group members section.\n",
    "- ONE, and only one, member of your group should upload this notebook to TritonED. \n",
    "- Each member of the group will receive the same grade on this assignment. \n",
    "- Keep the file name the same: submit the file 'ProjectProposal.ipynb'"
   ]
  },
  {
   "cell_type": "markdown",
   "metadata": {},
   "source": [
    "## Overview"
   ]
  },
  {
   "cell_type": "markdown",
   "metadata": {},
   "source": [
    "Read the project description and detailed instructions for this assignment in the 'ProjectOutline' document."
   ]
  },
  {
   "cell_type": "markdown",
   "metadata": {},
   "source": [
    "## Group Members: Fill in the Student IDs of each group member here\n",
    "\n",
    "Replace the lines below to list each persons full student ID. Add lines as needed for your group size, and make sure each ID is listed on a separate line. \n",
    "\n",
    "- A13573544\n",
    "- A13954957\n",
    "- A13660401\n",
    "- A13501606\n",
    "- A13765266"
   ]
  },
  {
   "cell_type": "markdown",
   "metadata": {},
   "source": [
    "### Research Question\n",
    "\n",
    "What is your research question? (1-2 sentences)"
   ]
  },
  {
   "cell_type": "markdown",
   "metadata": {},
   "source": [
    "Do different factors (gender, age, race, location) affect the decision making of the San Diego police when stopping vehicles?"
   ]
  },
  {
   "cell_type": "markdown",
   "metadata": {},
   "source": [
    "### Hypothesis\n",
    "\n",
    "What is your main hypothesis and predictions? (2-3 sentences)"
   ]
  },
  {
   "cell_type": "markdown",
   "metadata": {},
   "source": [
    "Gender and age do not affect the severity/decision making of the San Diego Polide Department. On the other hand, race will show to noticeably affect the behavior of police officers and possibly reveal racial bias within the department. "
   ]
  },
  {
   "cell_type": "markdown",
   "metadata": {},
   "source": [
    "### Dataset(s)\n",
    "\n",
    "What data will you use to answer your question? Describe the dataset(s) in terms of number of observations, what kind of features it contains, etc. You must use at least one dataset containing at least approximately 1000 observations (if your data are smaller but you feel they are sufficient, email Prof. Voytek). You are welcome (and in fact recommended) to find multiple datasets! If you do so, describe each one, and briefly explain how you will combine them together. "
   ]
  },
  {
   "cell_type": "markdown",
   "metadata": {},
   "source": [
    "Dataset Name: Police Vehicle Stops (year-to-date)\n",
    "- Link to the dataset: http://seshat.datasd.org/pd/vehicle_stops_2017_datasd.csv\n",
    "- Number of observations: 28362\n",
    "- Description: This dataset contains information about recorded vehicle stop made by the San Diego Police Department. The most relevant information that it contains are stop id, race, age, gender, and location of every stop, but other information such as time of the stop, polic area and if the veh\n",
    "icle was searched or not. \n",
    "\n",
    "Dataset Name: Police Vehicle Stops Search Details (year-to-date)\n",
    "- Link to the dataset: http://seshat.datasd.org/pd/vehicle_stops_search_details_2017_datasd.csv\n",
    "- Number of observations: 31659\n",
    "- Description: This dataset contains more information about recorded vehicle stop made by the San Diego Police Department. Here the details mainly regard the decision taken by the officer, wether an action was taken or not and what kind it was, if the encounter resulted in a citation, verbal warning, waiver search, and more.\n",
    "\n",
    "Dataset Name: City-data.com data on San Diego, California\n",
    "- Link to the dataset: http://www.city-data.com/city/San-Diego-California.html\n",
    "- Number of observations: Information on 23 out of 28 zip codes in San Diego (explained below)\n",
    "- Description: This site contains detailed information about almost all of San Diego in regards to age, income, and race. It if given in percentages which we can use to make a good estimate of a total count based on each area's total population. The data above includes police area information, which we can match to zip codes and expand our analysis. \n",
    "\n",
    "Combining the datasets: The data do not have the same number of observations, however, both files contain each stop's id, so for the matching stops we can combine their information from the two datasets.\n",
    "\n",
    "Note: This data and the same values for 2014, 2015, and 2016 are found in: https://data.sandiego.gov/datasets/police-vehicle-stops/. We also plan in looking at these datasets to evaluate the progress over time of vehicle stops and their relationship with the factors mentioned in out research question."
   ]
  },
  {
   "cell_type": "markdown",
   "metadata": {},
   "source": [
    "### Background and Prior Work\n",
    "\n",
    "Why is this question of interest, what background information led you to your hypothesis, and why is this important?\n",
    "\n",
    "Find some relevant prior work, and reference those sources. Even if you think you have a totally novel question, find the most similar prior work that you can and discuss how it relates to your project. \n",
    "\n",
    "References can be research publications, but they need not be. Blogs, github repositories, company websites, etc., are all viable references if they are relevant to your project.\n"
   ]
  },
  {
   "cell_type": "markdown",
   "metadata": {},
   "source": [
    "1) San Diego Union Tribune: \"San Diego must acknowledge racial bias in police stops, leaders say\"\n",
    "- From late 2016, the article articulates that data from vehicle stops shows racial bias within San Diego's police department, specially towards Hispanic and Black individuals. It utlines the need for the police to acknowledge this and begin fighting against it. These claims, although not directly supported by data analysis in this article, makes us believe that racial bias still exists. This is important because the issue is recent and we hypothesise still present, we want to know if these protests and efforts have truly changed or minimized the bias within the San Diego police department.We would also like to expand beyond this and specifically determine which areas are more likely to present this issue. \n",
    "     Link: http://www.sandiegouniontribune.com/news/politics/sd-me-police-hearing-20161130-story.html\n",
    "     \n",
    "2) The Voice of San Diego: \"SDSU Researchers Watered Down the Police Racial-Profiling Study\"\n",
    "- This article talks about part of the reaserch process SDSU researchers went through when trying to find bias in the San Diego Police department. This article outlines some important aspects about ethics and claims thay we need to keep in mind when working on the resulting data of the project. If our hypothesis is correct and a bias is found, we need to keep in mind the causes of this. We cannot immediately assume that this bias is intentional, and like mentioned before, we need to keep in mind the location of the stops. If an area mostly resides Hispanic individuals, the fact that more Hispanics than white individuals are stopped does not mean a bias exists. \n",
    "     Link: https://www.voiceofsandiego.org/topics/public-safety/sdsu-researchers-watered-police-racial-profiling-study/"
   ]
  },
  {
   "cell_type": "markdown",
   "metadata": {},
   "source": [
    "### Proposed Methods\n",
    "\n",
    "What methods will you use to analyze your data?\n",
    "\n",
    "- How 'clean' is the data? To the extent that it requires cleaning, how will you do so?\n",
    "- How will you analyze the data? Be as specific as you can. Briefly mention any pre-processing steps that are required for your methods (for example, checking data distributions and performing any transformations that may be required). Include a brief outline of how you will apply your chosen method(s). \n",
    "- What do you plan to report? Briefly mention any key visualizations you plan to create, and/or the kind of results you will be able to report that address your question (this could be, for example, the outcome of some statistical test(s), prediction error on a model, a model fit parameter, etc.).\n",
    "- Include a list of packages you expect to use for you project. If you plan to use packages we have not used in class, add a very brief description about them (a few words is sufficient). "
   ]
  },
  {
   "cell_type": "markdown",
   "metadata": {},
   "source": [
    "*Data Cleaning*\n",
    "A first look at the vehicle stops data shows that NaNs exist as well as empty lines, but for the most part it is very clean and well organized. For example, when a vehicle search is not made, we can expect a \"\" in the 'contraband_found' section. Sometimes the age and race are missing, but these are only a few cases and since we cannot guess those values, they will be deleted. When it coems to unknown information such as as location of the stop, we can stil use those datapoints for more general, not location-specific claims, however when we dive into looking at the different areas of San Diego, we must not take these points into consideration as we cannon guess where the stop took place.\n",
    "\n",
    "*Data Analysis*\n",
    "After cleaning the first and second datasets we must merge them using their shared column 'stop_id'. Once this is done we can isolate vehicle stops based on different factors, that is, have a dataframe for each race, then each age group (increments of 10 yrs), and gender. Then we can analyze, by percentages, the decisions policemen take based on these factors. For example we might look at wheter males are more likely to be given only a verbal warning than males, of if Hispanic individuals are more likely to be searched than asian individuals. \n",
    "After this we can then look into the results of such searches, which age group/gender/race is more likely to carry contraband when searched, does this match the likelihood of that specific group being searched?\n",
    "The next part of the peoject involves merging location into this. The police department offers information about police areas, which can be matched to zip codes. The data found in city-data.com will need to be web scraped so we can attain the age, gender and race percentages of the areas where these stops are taking place. Then we can compare the values previously found to the population percentages and analyze if what might seem like racial bias happens because that race is more predominant to drive around a certain area. \n",
    "\n",
    "*What to report*\n",
    "We plan to report the findings based on age, gender, and race, adjusted based on population information. We plan to report if a specific group is statisticlly more likely to be searched, cited, given a verbal warning etc. We also plan to incorporte the location of these stops and graph (in a map), the trends we find on each specific area, this ay not only provide useful information for drivers, but also for the police departent as some areas might be more observed than others, or some areas might show a greater gender/age/gender bias than others.\n",
    "\n",
    "Packages we plan to use:\n",
    "- numpy: fundamental matrix operations\n",
    "- pandas: datataframe manipulation \n",
    "- beautifulsoup4: webscraping population information\n",
    "- matplotlib: plotting out data"
   ]
  },
  {
   "cell_type": "markdown",
   "metadata": {},
   "source": [
    "### Ethics and Privacy\n",
    "\n",
    "Briefly acknowledge and address any potential issues of ethics and privacy for the proposed project. In particular:\n",
    "- Do you have permission to use this data, for this purpose?\n",
    "- Are there privacy concerns regarding your datasets that you need to deal with, and/or terms of use that you need to comply with?\n",
    "- Are there potential biases in your dataset(s), in terms of who it composes, and how it was collected, that may be problematic in terms of it allowing for equitable analysis? (For example, does your data exclude particular populations, or is it likely to reflect particular human biases in a way that could be a problem?) \n",
    "- Are there any other issues related to your topic area, data, and/or analyses that are potentially problematic in terms of data privacy and equitable impact?\n",
    "- How will you handle any issues you identify?\n",
    "\n",
    "*Ethics and Privacy in our data*\n",
    "- We do have permission to use this data, it's source clearly states that we have the right to share, adapt, and create tools from this data. It is emphasized that no restrictions exist when it comes to using its data. https://data.sandiego.gov/datasets/police-vehicle-stops/ (license at bottom section). \n",
    "- The data we are dealing with contains no personal information, while very specific when it comes to gender, age and race, the identity of the individuals behind each point remains anonymous. \n",
    "- For the data obtained from city-data.com, we must not use it for profit, other than that that is the only portion in the terms of use that would apply to us as we do not plan on selling this information. http://www.city-data.com/terms.html (city-data terms of use).\n",
    "- city-data does not provide information of 5 out of the 28 zip codes in San Diego, so the part of our analysis that is based on location of the stoppings will not take the datapoints relating to these areas into account.\n",
    "- We do not know exactly how city-data conducts their studies and if any bias might be in place, but we beieve it is fair to assume that the data was colected faily, and does not leave out any information that would alter our results. \n",
    "- We believe that based on our data and the way we are going to use it, there are no further issues concerning privacy or equitable analysis that would impact our data analysis. \n",
    "- Through planning ahead and discussing our work before completing it, if we do encounter any issues we will be able to fix them before it being too late. We will always keep privacy and validity/biases a primary concern and ensure that eveything we do complies with the ethics of data science."
   ]
  },
  {
   "cell_type": "markdown",
   "metadata": {},
   "source": [
    "### Discussion\n",
    "\n",
    "Discuss your project, looking forward to what your results might mean, how they fit it in with what is already known, and what problems you may encounter. \n",
    "\n",
    "In particular:\n",
    "- If your analyses and hypotheses are correct, what will be the contribution of this project to the topic domain? \n",
    "- Alternatively, what will you do if you methods don't work and/or your hypotheses are wrong? \n",
    "- What are the potential pitfalls and potential confounds of your data and/or methods that may cause problems, and/or influence your interpretations?\n"
   ]
  },
  {
   "cell_type": "markdown",
   "metadata": {},
   "source": [
    "The results of our project would test police bias in San Diego. Issues such as police brutality have existed in the United States for many decades and reappeared recently during the BlackLivesMatter movement. Associating increased stops in particular zip codes of particular races suggests that there remains a bias in police officers on stereotypical criminals. If particular low-income zip codes have an increased amount of stops with very few actual findings (drugs, weapons, smuggling), it could mean that police are not stopping drivers out of safety but rather out of some sort of prejudice. \n",
    "\n",
    "If our hypothesis is false, then it means that police implicit bias training have been effective in limiting racial segregation. It would suggest that police stopping and searching in San Diego are not associated to preexisting suspicions or abusing their power. If we suspect that our method didn't work, then we will consider looking into previous years to see if there is a pattern that we have not found. \n",
    "\n",
    "Because of how independent police stops and searches are from one another, various local news and events can drastically confound our results. Local and global events and holidays can spike police stops on certain days more than others. Fear of national threat would also increase stops with an intent of protecting citizens. Having data from previous years allows us to mitigate pitfalls in our method but it does not change the fact that our assumptions may be misinformed. Lastly, it would also be important to consider the location of San Diego, given that the proximity to Mexico greatly increases police stops in the South to scan for illegal immigrants, which may also appear as a trend in our analysis.\n"
   ]
  }
 ],
 "metadata": {
  "kernelspec": {
   "display_name": "Python 3",
   "language": "python",
   "name": "python3"
  },
  "language_info": {
   "codemirror_mode": {
    "name": "ipython",
    "version": 3
   },
   "file_extension": ".py",
   "mimetype": "text/x-python",
   "name": "python",
   "nbconvert_exporter": "python",
   "pygments_lexer": "ipython3",
   "version": "3.6.3"
  }
 },
 "nbformat": 4,
 "nbformat_minor": 2
}
