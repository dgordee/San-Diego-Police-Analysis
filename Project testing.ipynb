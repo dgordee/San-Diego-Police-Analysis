{
 "cells": [
  {
   "cell_type": "markdown",
   "metadata": {},
   "source": [
    "# COGS 108 - Capstone Project"
   ]
  },
  {
   "cell_type": "markdown",
   "metadata": {},
   "source": [
    "## Project links, files, and basic information\n",
    "\n",
    "### Websites with datasets:\n",
    "- San Diego Vehicle Stops:  https://data.sandiego.gov/datasets/police-vehicle-stops/\n",
    "- Dan Diego Population Data:  http://www.city-data.com/city/San-Diego-California.html\n",
    "\n",
    "### Websites of needed information:\n",
    "- San Diego police service areas https://www.sandiego.gov/police/services/divisions (vehcle stop data only records the first two digits)\n",
    "- San Diego zip code map: http://www.city-data.com/zipmaps/San-Diego-California.html\n",
    "\n",
    "### Names of datasets\n",
    "#### *Vehicle Stops*\n",
    "- 'vehicle_stops_2017.csv'\n",
    "- 'vehicle_stops_2016.csv'\n",
    "- 'vehicle_stops_2015.csv'\n",
    "- 'vehicle_stops_2014.csv'\n",
    "\n",
    "#### *Vehicle Stops Details*\n",
    "- 'vehicle_stops_search_details_2017.csv'\n",
    "- 'vehicle_stops_search_details_2016.csv'\n",
    "- 'vehicle_stops_search_details_2015.csv'\n",
    "- 'vehicle_stops_search_details_2014.csv'\n",
    "\n",
    "#### *Files needed to read Vehicle Stops information*\n",
    "- Race Codes: 'vehicle_stops_race_codes.csv'    \n",
    "- Title explanations for Vehicle Stops data: 'vehicle_stops_dictionary.csv'\n",
    "- Title explanations for Vehicle Stops Details data: 'vehicle_stops_search_details_dictionary.csv'\n",
    "- Possible actions taken when stopped for Vehicle Stops Details data: 'vehicle_stops_search_details_description_list.csv'"
   ]
  },
  {
   "cell_type": "markdown",
   "metadata": {},
   "source": [
    "# TODO\n",
    " - Map zip-code and police area \n",
    " - Combine stops and info datasets (careful not loosing information/counting duplicates)\n",
    " - Web scrape zip-code demographics\n",
    " - Plan/start thinking about how we are correlate the data"
   ]
  },
  {
   "cell_type": "code",
   "execution_count": 2,
   "metadata": {},
   "outputs": [
    {
     "name": "stderr",
     "output_type": "stream",
     "text": [
      "/Users/Montilla/anaconda3/lib/python3.6/site-packages/statsmodels/compat/pandas.py:56: FutureWarning: The pandas.core.datetools module is deprecated and will be removed in a future version. Please use the pandas.tseries module instead.\n",
      "  from pandas.core import datetools\n"
     ]
    }
   ],
   "source": [
    "# Imports\n",
    "%matplotlib inline\n",
    "\n",
    "# Basics\n",
    "import numpy as np\n",
    "import pandas as pd\n",
    "import matplotlib.pyplot as plt\n",
    "\n",
    "# Web scrapping\n",
    "import sys\n",
    "#!conda install --yes --prefix {sys.prefix} beautifulsoup4\n",
    "\n",
    "# Data analysis\n",
    "import patsy\n",
    "import statsmodels.api as sm\n",
    "import scipy.stats as stats\n",
    "from scipy.stats import ttest_ind, chisquare, normaltest"
   ]
  },
  {
   "cell_type": "code",
   "execution_count": 6,
   "metadata": {
    "collapsed": true
   },
   "outputs": [],
   "source": [
    "# Read in 2017 datasets\n",
    "df_stops = pd.read_csv('vehicle_stops_2017.csv')\n",
    "df_stops_info = pd.read_csv('vehicle_stops_search_details_2017.csv')"
   ]
  },
  {
   "cell_type": "code",
   "execution_count": 17,
   "metadata": {},
   "outputs": [
    {
     "data": {
      "text/plain": [
       "array(['120', '520', '720', '440', '510', '310', '930', '110', '620',\n",
       "       '230', '240', 'Unknown', ' Bulletin', '710', '320', '430', '830',\n",
       "       '820', '810', '610', ' County', '840', '130', '630', '530'], dtype=object)"
      ]
     },
     "execution_count": 17,
     "metadata": {},
     "output_type": "execute_result"
    }
   ],
   "source": [
    "df_stops['service_area'].unique()"
   ]
  },
  {
   "cell_type": "code",
   "execution_count": 10,
   "metadata": {},
   "outputs": [
    {
     "data": {
      "text/html": [
       "<div>\n",
       "<style>\n",
       "    .dataframe thead tr:only-child th {\n",
       "        text-align: right;\n",
       "    }\n",
       "\n",
       "    .dataframe thead th {\n",
       "        text-align: left;\n",
       "    }\n",
       "\n",
       "    .dataframe tbody tr th {\n",
       "        vertical-align: top;\n",
       "    }\n",
       "</style>\n",
       "<table border=\"1\" class=\"dataframe\">\n",
       "  <thead>\n",
       "    <tr style=\"text-align: right;\">\n",
       "      <th></th>\n",
       "      <th>stop_id</th>\n",
       "      <th>search_details_id</th>\n",
       "      <th>search_details_type</th>\n",
       "      <th>search_details_description</th>\n",
       "      <th>Unnamed: 4</th>\n",
       "      <th>Unnamed: 5</th>\n",
       "    </tr>\n",
       "  </thead>\n",
       "  <tbody>\n",
       "    <tr>\n",
       "      <th>0</th>\n",
       "      <td>1444799</td>\n",
       "      <td>1628067.0</td>\n",
       "      <td>ActionTaken</td>\n",
       "      <td>Citation</td>\n",
       "      <td>NaN</td>\n",
       "      <td>NaN</td>\n",
       "    </tr>\n",
       "    <tr>\n",
       "      <th>1</th>\n",
       "      <td>1444821</td>\n",
       "      <td>1628097.0</td>\n",
       "      <td>ActionTaken</td>\n",
       "      <td>Verbal Warning</td>\n",
       "      <td>NaN</td>\n",
       "      <td>NaN</td>\n",
       "    </tr>\n",
       "    <tr>\n",
       "      <th>2</th>\n",
       "      <td>1447102</td>\n",
       "      <td>1630482.0</td>\n",
       "      <td>ActionTaken</td>\n",
       "      <td>Citation</td>\n",
       "      <td>NaN</td>\n",
       "      <td>NaN</td>\n",
       "    </tr>\n",
       "    <tr>\n",
       "      <th>3</th>\n",
       "      <td>1444801</td>\n",
       "      <td>1628069.0</td>\n",
       "      <td>ActionTaken</td>\n",
       "      <td>Verbal Warning</td>\n",
       "      <td>NaN</td>\n",
       "      <td>NaN</td>\n",
       "    </tr>\n",
       "    <tr>\n",
       "      <th>4</th>\n",
       "      <td>1444802</td>\n",
       "      <td>1628070.0</td>\n",
       "      <td>ActionTaken</td>\n",
       "      <td>Verbal Warning</td>\n",
       "      <td>NaN</td>\n",
       "      <td>NaN</td>\n",
       "    </tr>\n",
       "    <tr>\n",
       "      <th>5</th>\n",
       "      <td>1444912</td>\n",
       "      <td>1628192.0</td>\n",
       "      <td>ActionTaken</td>\n",
       "      <td>Verbal Warning</td>\n",
       "      <td>NaN</td>\n",
       "      <td>NaN</td>\n",
       "    </tr>\n",
       "    <tr>\n",
       "      <th>6</th>\n",
       "      <td>1444804</td>\n",
       "      <td>1628072.0</td>\n",
       "      <td>ActionTaken</td>\n",
       "      <td>Verbal Warning</td>\n",
       "      <td>NaN</td>\n",
       "      <td>NaN</td>\n",
       "    </tr>\n",
       "    <tr>\n",
       "      <th>7</th>\n",
       "      <td>1444805</td>\n",
       "      <td>1628073.0</td>\n",
       "      <td>ActionTaken</td>\n",
       "      <td>Other</td>\n",
       "      <td>NaN</td>\n",
       "      <td>NaN</td>\n",
       "    </tr>\n",
       "    <tr>\n",
       "      <th>8</th>\n",
       "      <td>1444805</td>\n",
       "      <td>1628074.0</td>\n",
       "      <td>ActionTakenOther</td>\n",
       "      <td>DL 310</td>\n",
       "      <td>NaN</td>\n",
       "      <td>NaN</td>\n",
       "    </tr>\n",
       "    <tr>\n",
       "      <th>9</th>\n",
       "      <td>1444811</td>\n",
       "      <td>1628083.0</td>\n",
       "      <td>ActionTaken</td>\n",
       "      <td>Citation</td>\n",
       "      <td>NaN</td>\n",
       "      <td>NaN</td>\n",
       "    </tr>\n",
       "    <tr>\n",
       "      <th>10</th>\n",
       "      <td>1444811</td>\n",
       "      <td>1628084.0</td>\n",
       "      <td>SearchType</td>\n",
       "      <td>Vehicle</td>\n",
       "      <td>NaN</td>\n",
       "      <td>NaN</td>\n",
       "    </tr>\n",
       "    <tr>\n",
       "      <th>11</th>\n",
       "      <td>1444811</td>\n",
       "      <td>1628085.0</td>\n",
       "      <td>SearchType</td>\n",
       "      <td>Driver</td>\n",
       "      <td>NaN</td>\n",
       "      <td>NaN</td>\n",
       "    </tr>\n",
       "    <tr>\n",
       "      <th>12</th>\n",
       "      <td>1444811</td>\n",
       "      <td>1628086.0</td>\n",
       "      <td>SearchBasis</td>\n",
       "      <td>4th Waiver Search</td>\n",
       "      <td>NaN</td>\n",
       "      <td>NaN</td>\n",
       "    </tr>\n",
       "    <tr>\n",
       "      <th>13</th>\n",
       "      <td>1444807</td>\n",
       "      <td>1628076.0</td>\n",
       "      <td>ActionTaken</td>\n",
       "      <td>Verbal Warning</td>\n",
       "      <td>NaN</td>\n",
       "      <td>NaN</td>\n",
       "    </tr>\n",
       "    <tr>\n",
       "      <th>14</th>\n",
       "      <td>1444806</td>\n",
       "      <td>1628075.0</td>\n",
       "      <td>ActionTaken</td>\n",
       "      <td>Verbal Warning</td>\n",
       "      <td>NaN</td>\n",
       "      <td>NaN</td>\n",
       "    </tr>\n",
       "    <tr>\n",
       "      <th>15</th>\n",
       "      <td>1444808</td>\n",
       "      <td>1628077.0</td>\n",
       "      <td>ActionTaken</td>\n",
       "      <td>Verbal Warning</td>\n",
       "      <td>NaN</td>\n",
       "      <td>NaN</td>\n",
       "    </tr>\n",
       "    <tr>\n",
       "      <th>16</th>\n",
       "      <td>1444809</td>\n",
       "      <td>1628078.0</td>\n",
       "      <td>ActionTaken</td>\n",
       "      <td>Citation</td>\n",
       "      <td>NaN</td>\n",
       "      <td>NaN</td>\n",
       "    </tr>\n",
       "    <tr>\n",
       "      <th>17</th>\n",
       "      <td>1444809</td>\n",
       "      <td>1628079.0</td>\n",
       "      <td>SearchType</td>\n",
       "      <td>Vehicle</td>\n",
       "      <td>NaN</td>\n",
       "      <td>NaN</td>\n",
       "    </tr>\n",
       "    <tr>\n",
       "      <th>18</th>\n",
       "      <td>1444809</td>\n",
       "      <td>1628080.0</td>\n",
       "      <td>SearchBasis</td>\n",
       "      <td>Inventory Search [Prior to Impound]</td>\n",
       "      <td>NaN</td>\n",
       "      <td>NaN</td>\n",
       "    </tr>\n",
       "    <tr>\n",
       "      <th>19</th>\n",
       "      <td>1444810</td>\n",
       "      <td>1628081.0</td>\n",
       "      <td>ActionTaken</td>\n",
       "      <td>Verbal Warning</td>\n",
       "      <td>NaN</td>\n",
       "      <td>NaN</td>\n",
       "    </tr>\n",
       "  </tbody>\n",
       "</table>\n",
       "</div>"
      ],
      "text/plain": [
       "    stop_id  search_details_id search_details_type  \\\n",
       "0   1444799          1628067.0         ActionTaken   \n",
       "1   1444821          1628097.0         ActionTaken   \n",
       "2   1447102          1630482.0         ActionTaken   \n",
       "3   1444801          1628069.0         ActionTaken   \n",
       "4   1444802          1628070.0         ActionTaken   \n",
       "5   1444912          1628192.0         ActionTaken   \n",
       "6   1444804          1628072.0         ActionTaken   \n",
       "7   1444805          1628073.0         ActionTaken   \n",
       "8   1444805          1628074.0    ActionTakenOther   \n",
       "9   1444811          1628083.0         ActionTaken   \n",
       "10  1444811          1628084.0          SearchType   \n",
       "11  1444811          1628085.0          SearchType   \n",
       "12  1444811          1628086.0         SearchBasis   \n",
       "13  1444807          1628076.0         ActionTaken   \n",
       "14  1444806          1628075.0         ActionTaken   \n",
       "15  1444808          1628077.0         ActionTaken   \n",
       "16  1444809          1628078.0         ActionTaken   \n",
       "17  1444809          1628079.0          SearchType   \n",
       "18  1444809          1628080.0         SearchBasis   \n",
       "19  1444810          1628081.0         ActionTaken   \n",
       "\n",
       "             search_details_description Unnamed: 4 Unnamed: 5  \n",
       "0                              Citation        NaN        NaN  \n",
       "1                        Verbal Warning        NaN        NaN  \n",
       "2                              Citation        NaN        NaN  \n",
       "3                        Verbal Warning        NaN        NaN  \n",
       "4                        Verbal Warning        NaN        NaN  \n",
       "5                        Verbal Warning        NaN        NaN  \n",
       "6                        Verbal Warning        NaN        NaN  \n",
       "7                                 Other        NaN        NaN  \n",
       "8                                DL 310        NaN        NaN  \n",
       "9                              Citation        NaN        NaN  \n",
       "10                              Vehicle        NaN        NaN  \n",
       "11                               Driver        NaN        NaN  \n",
       "12                    4th Waiver Search        NaN        NaN  \n",
       "13                       Verbal Warning        NaN        NaN  \n",
       "14                       Verbal Warning        NaN        NaN  \n",
       "15                       Verbal Warning        NaN        NaN  \n",
       "16                             Citation        NaN        NaN  \n",
       "17                              Vehicle        NaN        NaN  \n",
       "18  Inventory Search [Prior to Impound]        NaN        NaN  \n",
       "19                       Verbal Warning        NaN        NaN  "
      ]
     },
     "execution_count": 10,
     "metadata": {},
     "output_type": "execute_result"
    }
   ],
   "source": [
    "df_stops_info.head(20)"
   ]
  },
  {
   "cell_type": "code",
   "execution_count": null,
   "metadata": {
    "collapsed": true
   },
   "outputs": [],
   "source": [
    "# Drop garbage columns\n",
    "df_stops.drop(['Unnamed: 15', 'Unnamed: 16', 'timestamp'], axis=1, inplace=True)\n",
    "df_stops_info.drop(['Unnamed: 5', 'Unnamed: 4'], axis=1, inplace=True)"
   ]
  },
  {
   "cell_type": "code",
   "execution_count": null,
   "metadata": {
    "collapsed": true
   },
   "outputs": [],
   "source": [
    "# Merge stop information based on 'stop_id'\n",
    "df_stops_comb = df_stops_info.merge(df_stops, on='stop_id')"
   ]
  },
  {
   "cell_type": "code",
   "execution_count": null,
   "metadata": {
    "collapsed": true
   },
   "outputs": [],
   "source": [
    "print(\"Stops:\\t\", df_stops.shape)\n",
    "print(\"Info:\\t\", df_stops_info.shape)\n",
    "print(\"Comb:\\t\", df_stops_comb.shape)"
   ]
  },
  {
   "cell_type": "code",
   "execution_count": 23,
   "metadata": {},
   "outputs": [
    {
     "data": {
      "text/plain": [
       "['stop_id',\n",
       " 'stop_cause',\n",
       " 'service_area',\n",
       " 'subject_race',\n",
       " 'subject_sex',\n",
       " 'subject_age',\n",
       " 'stop_date',\n",
       " 'stop_time',\n",
       " 'sd_resident',\n",
       " 'arrested',\n",
       " 'searched',\n",
       " 'obtained_consent',\n",
       " 'contraband_found',\n",
       " 'property_seized']"
      ]
     },
     "execution_count": 23,
     "metadata": {},
     "output_type": "execute_result"
    }
   ],
   "source": [
    "list(df_stops)"
   ]
  },
  {
   "cell_type": "code",
   "execution_count": null,
   "metadata": {
    "collapsed": true
   },
   "outputs": [],
   "source": []
  },
  {
   "cell_type": "code",
   "execution_count": null,
   "metadata": {
    "collapsed": true
   },
   "outputs": [],
   "source": []
  },
  {
   "cell_type": "code",
   "execution_count": null,
   "metadata": {
    "collapsed": true
   },
   "outputs": [],
   "source": []
  },
  {
   "cell_type": "code",
   "execution_count": null,
   "metadata": {
    "collapsed": true
   },
   "outputs": [],
   "source": []
  },
  {
   "cell_type": "code",
   "execution_count": null,
   "metadata": {
    "collapsed": true
   },
   "outputs": [],
   "source": []
  },
  {
   "cell_type": "code",
   "execution_count": null,
   "metadata": {
    "collapsed": true
   },
   "outputs": [],
   "source": []
  },
  {
   "cell_type": "code",
   "execution_count": null,
   "metadata": {
    "collapsed": true
   },
   "outputs": [],
   "source": []
  }
 ],
 "metadata": {
  "kernelspec": {
   "display_name": "Python 3",
   "language": "python",
   "name": "python3"
  },
  "language_info": {
   "codemirror_mode": {
    "name": "ipython",
    "version": 3
   },
   "file_extension": ".py",
   "mimetype": "text/x-python",
   "name": "python",
   "nbconvert_exporter": "python",
   "pygments_lexer": "ipython3",
   "version": "3.6.3"
  }
 },
 "nbformat": 4,
 "nbformat_minor": 2
}
